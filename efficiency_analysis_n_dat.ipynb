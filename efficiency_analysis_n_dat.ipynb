{
 "cells": [
  {
   "cell_type": "code",
   "execution_count": 57,
   "id": "74cd445d-4e43-4309-8353-0ed2387031fe",
   "metadata": {},
   "outputs": [
    {
     "name": "stdout",
     "output_type": "stream",
     "text": [
      "Spark session ready buddy.\n"
     ]
    }
   ],
   "source": [
    "## Create a Spark Session\n",
    "import os, sys\n",
    "\n",
    "import os, subprocess\n",
    "from pyspark.sql import SparkSession\n",
    "\n",
    "# first gotta try auto-detect Java17 on my Mac; then fallback to the know path if\n",
    "# needed. otherwise my spark wasn't loading data correctly.\n",
    "\n",
    "try:\n",
    "    os.environ[\"JAVA_HOME\"] = subprocess.check_output(\n",
    "        [\"/usr/libexec/java_home\", \"-v\", \"17\"]\n",
    "    ).decode().strip()\n",
    "except Exception:\n",
    "    os.environ[\"JAVA_HOME\"] = \"/opt/homebrew/Cellar/openjdk@17/17.0.16/libexec/openjdk.jdk/Contents/Home\"\n",
    "\n",
    "os.environ[\"SPARK_LOCAL_IP\"] = \"127.0.0.1\"\n",
    "\n",
    "spark = (\n",
    "    SparkSession.builder\n",
    "    .master(\"local[*]\")\n",
    "    .appName(\"Efficiency Analysis\")\n",
    "    .config(\"spark.driver.host\", \"127.0.0.1\")\n",
    "    .config(\"spark.driver.bindAddress\", \"127.0.0.1\")\n",
    "    .config(\"spark.sql.repl.eagerEval.enabled\", True)\n",
    "    .config(\"spark.sql.parquet.cacheMetadata\", \"true\")\n",
    "    .config(\"spark.sql.session.timeZone\", \"Etc/UTC\")\n",
    "    .config(\"spark.driver.memory\", \"3g\")\n",
    "    .getOrCreate()\n",
    ")\n",
    "spark.sparkContext.setLogLevel(\"WARN\")\n",
    "print(\"Spark session ready buddy.\")"
   ]
  },
  {
   "cell_type": "code",
   "execution_count": 59,
   "id": "5fd84e26-9976-4459-8d03-884424f5fb93",
   "metadata": {},
   "outputs": [],
   "source": [
    "spark.conf.set(\"spark.sql.shuffle.partitions\", \"8\")"
   ]
  },
  {
   "cell_type": "code",
   "execution_count": 61,
   "id": "2a662e51-c5f1-465e-9d40-e6a51b7ae33f",
   "metadata": {},
   "outputs": [
    {
     "name": "stdout",
     "output_type": "stream",
     "text": [
      "Already have 2019-01.parquet\n",
      "Already have 2019-02.parquet\n",
      "Already have 2019-03.parquet\n",
      "Already have 2019-04.parquet\n",
      "Already have 2019-05.parquet\n",
      "Already have 2019-06.parquet\n",
      "Done.\n"
     ]
    }
   ],
   "source": [
    "## Download the data for the yellow taxi trips in NYC from Jan-June 2019.\n",
    "\n",
    "import os\n",
    "from urllib.request import urlretrieve\n",
    "\n",
    "# this is the output folder where i'll store the data\n",
    "project_root = os.path.expanduser(\"~/Documents/GitHub/MAST30034_Python\")\n",
    "out_dir = os.path.join(project_root, \"data\", \"tlc_data\")\n",
    "os.makedirs(out_dir, exist_ok=True)\n",
    "\n",
    "YEAR = \"2019\"\n",
    "MONTHS = range(1,7) #Jan to June\n",
    "\n",
    "BASE = \"https://d37ci6vzurychx.cloudfront.net/trip-data/yellow_tripdata_\"\n",
    "\n",
    "# for each selected month...\n",
    "for m in MONTHS:\n",
    "    mm = f\"{m:02d}\" # format it as 2 digit (i.e. 01, 02 etc)\n",
    "    url = f\"{BASE}{YEAR}-{mm}.parquet\" # make a download link\n",
    "    dest = os.path.join(out_dir, f\"{YEAR}-{mm}.parquet\")\n",
    "    \n",
    "    # just gotta check if the file exists already before downloading\n",
    "    if os.path.exists(dest):\n",
    "        print(\"Already have \" + os.path.basename(dest))\n",
    "    else:\n",
    "        print(\"Downloading \" + os.path.basename(dest) + \"...\")\n",
    "        urlretrieve(url, dest)\n",
    "\n",
    "print(\"Done.\")"
   ]
  },
  {
   "cell_type": "code",
   "execution_count": 63,
   "id": "1cc6ef84-57ee-4aae-a9b8-2603e13acf64",
   "metadata": {},
   "outputs": [
    {
     "name": "stdout",
     "output_type": "stream",
     "text": [
      "Already have taxi+_zone_lookup.csv\n",
      "Already have taxi_zones.zip\n",
      "Zones ready.\n"
     ]
    }
   ],
   "source": [
    "## Download the taxi zone lookup (CSV) and shapefile (ZIP). This allows us to map\n",
    "## the numeric location IDs to actual neighbourhoods in NYC. \n",
    "## Will be helpful for geospatial analysis later\n",
    "\n",
    "\n",
    "import os\n",
    "from urllib.request import urlretrieve\n",
    "\n",
    "zones_dir = os.path.join(project_root, \"data\", \"taxi_zones\")\n",
    "\n",
    "# subfolder to keep the taxi zone reference files\n",
    "os.makedirs(\"../data/taxi_zones\", exist_ok=True)\n",
    "\n",
    "# heres two reference files provided by TLC\n",
    "zone_lookup = \"https://d37ci6vzurychx.cloudfront.net/misc/taxi+_zone_lookup.csv\"\n",
    "zone_zip    = \"https://d37ci6vzurychx.cloudfront.net/misc/taxi_zones.zip\"\n",
    "\n",
    "# loop through the two files above and download (if not already downloaded)\n",
    "for url in [zone_lookup, zone_zip]:\n",
    "    name = url.split(\"/\")[-1]                \n",
    "    dest = \"../data/taxi_zones/\" + name      # the local path to save into\n",
    "    if os.path.exists(dest):\n",
    "        print(\"Already have \" + name)\n",
    "    else:\n",
    "        print(\"Downloading \" + name + \" ...\")\n",
    "        urlretrieve(url, dest)               # download from URL\n",
    "\n",
    "print(\"Zones ready.\")"
   ]
  },
  {
   "cell_type": "code",
   "execution_count": 65,
   "id": "3fe03249-c9e4-4fd7-af83-e95300fc453a",
   "metadata": {},
   "outputs": [
    {
     "name": "stdout",
     "output_type": "stream",
     "text": [
      "Found: ['2019-01.parquet', '2019-02.parquet', '2019-03.parquet', '2019-04.parquet', '2019-05.parquet', '2019-06.parquet']\n",
      "Reading: /Users/habibhaadi/Documents/GitHub/MAST30034_Python/data/tlc_data/2019-01.parquet\n",
      "+--------------------+---------------------+-------------+-----------+\n",
      "|tpep_pickup_datetime|tpep_dropoff_datetime|trip_distance|fare_amount|\n",
      "+--------------------+---------------------+-------------+-----------+\n",
      "|2019-01-01 00:46:40 |2019-01-01 00:53:20  |1.5          |7.0        |\n",
      "|2019-01-01 00:59:47 |2019-01-01 01:18:59  |2.6          |14.0       |\n",
      "|2018-12-21 13:48:30 |2018-12-21 13:52:40  |0.0          |4.5        |\n",
      "|2018-11-28 15:52:25 |2018-11-28 15:55:45  |0.0          |3.5        |\n",
      "|2018-11-28 15:56:57 |2018-11-28 15:58:33  |0.0          |52.0       |\n",
      "+--------------------+---------------------+-------------+-----------+\n",
      "only showing top 5 rows\n",
      "root\n",
      " |-- VendorID: long (nullable = true)\n",
      " |-- tpep_pickup_datetime: timestamp_ntz (nullable = true)\n",
      " |-- tpep_dropoff_datetime: timestamp_ntz (nullable = true)\n",
      " |-- passenger_count: double (nullable = true)\n",
      " |-- trip_distance: double (nullable = true)\n",
      " |-- RatecodeID: double (nullable = true)\n",
      " |-- store_and_fwd_flag: string (nullable = true)\n",
      " |-- PULocationID: long (nullable = true)\n",
      " |-- DOLocationID: long (nullable = true)\n",
      " |-- payment_type: long (nullable = true)\n",
      " |-- fare_amount: double (nullable = true)\n",
      " |-- extra: double (nullable = true)\n",
      " |-- mta_tax: double (nullable = true)\n",
      " |-- tip_amount: double (nullable = true)\n",
      " |-- tolls_amount: double (nullable = true)\n",
      " |-- improvement_surcharge: double (nullable = true)\n",
      " |-- total_amount: double (nullable = true)\n",
      " |-- congestion_surcharge: double (nullable = true)\n",
      " |-- airport_fee: integer (nullable = true)\n",
      "\n"
     ]
    }
   ],
   "source": [
    "## Load all NYC Yellow Taxi trip data (Jan-June 2019) into Spark\n",
    "## Read only one month first.\n",
    "\n",
    "from glob import glob\n",
    "import os\n",
    "\n",
    "data_dir = os.path.join(project_root, \"data\", \"tlc_data\")\n",
    "\n",
    "# then show what is already on disk\n",
    "files = sorted(glob(os.path.join(data_dir, \"*.parquet\")))\n",
    "print(\"Found:\", [os.path.basename(f) for f in files])\n",
    "\n",
    "# read the Jan one only just to avoid overload\n",
    "one_month = os.path.join(data_dir, \"2019-01.parquet\")\n",
    "print(\"Reading:\", one_month)\n",
    "\n",
    "df = spark.read.parquet(one_month)\n",
    "df.select(\n",
    "    \"tpep_pickup_datetime\",\"tpep_dropoff_datetime\",\"trip_distance\",\"fare_amount\"\n",
    ").show(5, truncate=False)\n",
    "\n",
    "# just wanna see the columns\n",
    "df.printSchema()"
   ]
  },
  {
   "cell_type": "code",
   "execution_count": 67,
   "id": "3a6e2350-d381-4ac4-a6bf-8057ef39348d",
   "metadata": {},
   "outputs": [
    {
     "name": "stdout",
     "output_type": "stream",
     "text": [
      "Reading: ['2019-01.parquet', '2019-02.parquet', '2019-03.parquet', '2019-04.parquet', '2019-05.parquet', '2019-06.parquet']\n",
      "Rows: 44658561\n"
     ]
    }
   ],
   "source": [
    "# then can read the remaining columns\n",
    "\n",
    "paths = [os.path.join(data_dir, f\"2019-{mm}.parquet\") for mm in [\"01\",\"02\",\"03\",\"04\",\"05\",\"06\"]]\n",
    "print(\"Reading:\", [os.path.basename(p) for p in paths if os.path.exists(p)])\n",
    "\n",
    "df = spark.read.parquet(*[p for p in paths if os.path.exists(p)])\n",
    "print(\"Rows:\", df.count())"
   ]
  },
  {
   "cell_type": "code",
   "execution_count": 13,
   "id": "d4f67cdc-7d7d-410e-b451-de3f4ef60604",
   "metadata": {},
   "outputs": [
    {
     "name": "stdout",
     "output_type": "stream",
     "text": [
      "+------------------+------------------+------------------+\n",
      "|duration_min      |earnings_per_min  |earnings_per_km   |\n",
      "+------------------+------------------+------------------+\n",
      "|6.666666666666667 |1.4925            |4.121772486443717 |\n",
      "|19.2              |0.8489583333333334|3.8955290797660966|\n",
      "|7.15              |1.2657342657342658|4.32571020513904  |\n",
      "|13.633333333333333|1.3569682151589242|3.1068636832490335|\n",
      "|12.0              |1.0833333333333333|3.8465931316416606|\n",
      "+------------------+------------------+------------------+\n",
      "\n",
      "Approx sample size peek: 100000\n"
     ]
    }
   ],
   "source": [
    "# okay now here im gonna create some efficiency metrics\n",
    "\n",
    "from pyspark.sql import functions as F\n",
    "from pyspark import StorageLevel\n",
    "\n",
    "# duration in minutes (pickup to dropoff) \n",
    "df2 = df.withColumn(\n",
    "    \"duration_min\",\n",
    "    (F.unix_timestamp(\"tpep_dropoff_datetime\") - F.unix_timestamp(\"tpep_pickup_datetime\")) / 60.0\n",
    ")\n",
    "\n",
    "\n",
    "# basic cleaning, like distance hance to be above 0, fare amounts have to be\n",
    "# within a reasonable range etc\n",
    "df2 = (\n",
    "    df2\n",
    "    .filter(F.col(\"trip_distance\") > 0)\n",
    "    .filter(F.col(\"duration_min\") > 0)                 # was trip_duration_min\n",
    "    .filter(F.col(\"total_amount\").between(0, 500))\n",
    ")\n",
    "\n",
    "# some efficiency metrics\n",
    "df2 = (\n",
    "    df2\n",
    "    .withColumn(\"earnings_per_min\", F.col(\"total_amount\") / F.col(\"duration_min\"))\n",
    "    .withColumn(\"earnings_per_km\",  F.col(\"total_amount\") / (F.col(\"trip_distance\") * 1.60934))\n",
    "    .withColumn(\"pickup_hour\", F.hour(\"tpep_pickup_datetime\"))\n",
    "    .withColumn(\"pickup_dow\",  F.date_format(\"tpep_pickup_datetime\",\"E\"))\n",
    ")\n",
    "\n",
    "# just visually checking if the columns look correct\n",
    "df2.select(\"duration_min\",\"earnings_per_min\",\"earnings_per_km\").limit(5).show(truncate=False)\n",
    "\n",
    "print(\"Approx sample size peek:\", df2.limit(100000).count())  # bounded work"
   ]
  },
  {
   "cell_type": "code",
   "execution_count": 15,
   "id": "80d64ab4-feec-46bd-b9f5-4aac7c043a73",
   "metadata": {},
   "outputs": [
    {
     "name": "stderr",
     "output_type": "stream",
     "text": [
      "25/08/30 19:59:12 WARN SparkStringUtils: Truncated the string representation of a plan since it was too large. This behavior can be adjusted by setting 'spark.sql.debug.maxToStringFields'.\n",
      "[Stage 11:===================================================>      (8 + 1) / 9]\r"
     ]
    },
    {
     "name": "stdout",
     "output_type": "stream",
     "text": [
      "+-------+--------------------+-------------------+------------------+------------------+------------------+\n",
      "|summary|earnings_per_min    |earnings_per_km    |trip_distance     |duration_min      |total_amount      |\n",
      "+-------+--------------------+-------------------+------------------+------------------+------------------+\n",
      "|count  |43710378            |43710378           |43710378          |43710378          |43710378          |\n",
      "|mean   |1.509187991543439   |5.739502499887947  |3.0379548051498664|14.437611671229151|18.615643329763138|\n",
      "|stddev |0.6535464711280915  |2.7849893302409323 |3.8969653054919102|11.523638026003448|14.087469117525703|\n",
      "|min    |0.007362658108363225|0.02092164096463996|0.1               |1.0               |1.0               |\n",
      "|25%    |1.0924608819345663  |3.7282364198988405 |1.0               |6.766666666666667 |10.8              |\n",
      "|50%    |1.346041055718475   |5.1621735044753185 |1.65              |11.2              |14.16             |\n",
      "|75%    |1.7273885350318472  |7.055587203249418  |3.1               |18.316666666666666|20.16             |\n",
      "|max    |10.0                |19.998996598099335 |80.0              |180.0             |300.0             |\n",
      "+-------+--------------------+-------------------+------------------+------------------+------------------+\n",
      "\n"
     ]
    },
    {
     "name": "stderr",
     "output_type": "stream",
     "text": [
      "                                                                                \r"
     ]
    }
   ],
   "source": [
    "# get some summary statistics\n",
    "\n",
    "from pyspark.sql import functions as F\n",
    "\n",
    "summary = (\n",
    "    df2.select(\"earnings_per_min\",\"earnings_per_km\",\"trip_distance\",\"duration_min\",\"total_amount\")\n",
    "       .summary(\"count\",\"mean\",\"stddev\",\"min\",\"25%\",\"50%\",\"75%\",\"max\")\n",
    ")\n",
    "\n",
    "# trim some obvious outliers\n",
    "df3 = (\n",
    "    df2\n",
    "    .filter((F.col(\"duration_min\") >= 1) & (F.col(\"duration_min\") <= 180))      # 1 min to 3 hours\n",
    "    .filter((F.col(\"trip_distance\") >= 0.1) & (F.col(\"trip_distance\") <= 80))   # 0.1–80 miles\n",
    "    .filter((F.col(\"total_amount\") >= 1) & (F.col(\"total_amount\") <= 300))      # $1–$300\n",
    "    .filter((F.col(\"earnings_per_min\") >= 0) & (F.col(\"earnings_per_min\") <= 10))\n",
    "    .filter((F.col(\"earnings_per_km\")  >= 0) & (F.col(\"earnings_per_km\")  <= 20))\n",
    ")\n",
    "\n",
    "# return the summary\n",
    "summary_trim = (df3.select(\"earnings_per_min\",\"earnings_per_km\",\"trip_distance\",\"duration_min\",\"total_amount\")\n",
    "                 .summary(\"count\",\"mean\",\"stddev\",\"min\",\"25%\",\"50%\",\"75%\",\"max\"))\n",
    "summary_trim.show(truncate=False)"
   ]
  },
  {
   "cell_type": "code",
   "execution_count": 19,
   "id": "214202c1-f1a5-4298-a363-e7188ed120e3",
   "metadata": {},
   "outputs": [
    {
     "data": {
      "image/png": "[encoded data removed]",
      "text/plain": [
       "<Figure size 640x480 with 1 Axes>"
      ]
     },
     "metadata": {},
     "output_type": "display_data"
    },
    {
     "data": {
      "image/png": "[encoded data removed]",
      "text/plain": [
       "<Figure size 640x480 with 1 Axes>"
      ]
     },
     "metadata": {},
     "output_type": "display_data"
    }
   ],
   "source": [
    "# sample for plotting (keeps it quick)\n",
    "import numpy as np\n",
    "from pyspark.sql import functions as F\n",
    "\n",
    "pdf = (\n",
    "    df3\n",
    "    .filter((F.col(\"earnings_per_min\") >= 0) & (F.col(\"earnings_per_min\") <= 10))\n",
    "    .filter((F.col(\"earnings_per_km\")  >= 0) & (F.col(\"earnings_per_km\")  <= 20))\n",
    "    .select(\"earnings_per_min\",\"earnings_per_km\",\"trip_distance\")\n",
    "    .sample(False, 0.01, seed=42)   # 1%\n",
    "    .limit(50000)                   # hard cap, keeps it snappy\n",
    "    .toPandas()\n",
    ")\n",
    "\n",
    "# drop inf/nan just in case\n",
    "pdf = pdf.replace([np.inf, -np.inf], np.nan).dropna()\n",
    "\n",
    "import matplotlib.pyplot as plt\n",
    "\n",
    "# $/min\n",
    "plt.hist(pdf[\"earnings_per_min\"], bins=60, range=(0,10))\n",
    "plt.xlabel(\"Earnings per minute (USD)\")\n",
    "plt.ylabel(\"Trips\")\n",
    "plt.title(\"Distribution: $/min\")\n",
    "plt.show()\n",
    "\n",
    "# $/km\n",
    "plt.hist(pdf[\"earnings_per_km\"], bins=60, range=(0,20))\n",
    "plt.xlabel(\"Earnings per km (USD)\")\n",
    "plt.ylabel(\"Trips\")\n",
    "plt.title(\"Distribution: $/km\")\n",
    "plt.show()"
   ]
  },
  {
   "cell_type": "code",
   "execution_count": 21,
   "id": "b981fc01-4d8a-4505-af4a-3e8f22e628eb",
   "metadata": {},
   "outputs": [],
   "source": [
    "# add columns pickup_hour and pick_dow\n",
    "\n",
    "df3 = (\n",
    "    df3\n",
    "    .withColumn(\"pickup_hour\", F.hour(\"tpep_pickup_datetime\"))           \n",
    "    .withColumn(\"pickup_dow\",  F.date_format(\"tpep_pickup_datetime\",\"E\"))\n",
    ")"
   ]
  },
  {
   "cell_type": "code",
   "execution_count": 75,
   "id": "c5515814-ca62-4e6b-97b3-5cf8797bf7f7",
   "metadata": {},
   "outputs": [
    {
     "name": "stdout",
     "output_type": "stream",
     "text": [
      "+--------------------+-------------+------------+-----------+----+----+----+----+\n",
      "|tpep_pickup_datetime|trip_distance|total_amount|pickup_date|TMAX|TMIN|PRCP|AWND|\n",
      "+--------------------+-------------+------------+-----------+----+----+----+----+\n",
      "|2019-01-01 00:46:40 |1.5          |9.95        |2019-01-01 |14.4|3.9 |1.5 |NULL|\n",
      "|2019-01-01 00:59:47 |2.6          |16.3        |2019-01-01 |14.4|3.9 |1.5 |NULL|\n",
      "|2019-01-01 00:21:28 |1.3          |9.05        |2019-01-01 |14.4|3.9 |1.5 |NULL|\n",
      "|2019-01-01 00:32:01 |3.7          |18.5        |2019-01-01 |14.4|3.9 |1.5 |NULL|\n",
      "|2019-01-01 00:57:32 |2.1          |13.0        |2019-01-01 |14.4|3.9 |1.5 |NULL|\n",
      "+--------------------+-------------+------------+-----------+----+----+----+----+\n",
      "only showing top 5 rows\n"
     ]
    }
   ],
   "source": [
    "## bring in external dataset, which is gonna be the daily NYC weather (Central Park NOAA station, 2019)\n",
    "\n",
    "import os\n",
    "from pyspark.sql import functions as F\n",
    "\n",
    "weather_csv = os.path.expanduser(\"~/Documents/GitHub/MAST30034_Python/data/nyc_2019_weather.csv\")\n",
    "\n",
    "weather = (spark.read.csv(weather_csv, header=True, inferSchema=True)\n",
    "           .withColumn(\"date\", F.to_date(\"DATE\"))   # standardize date format\n",
    "           .select(\"date\", \"TMAX\", \"TMIN\", \"PRCP\", \"AWND\"))\n",
    "\n",
    "# add pickup_date to trips\n",
    "df3 = df3.withColumn(\"pickup_date\", F.to_date(\"tpep_pickup_datetime\"))\n",
    "\n",
    "# join trips with weather by date\n",
    "df_weather = df3.join(weather, df3.pickup_date == weather.date, \"left\")\n",
    "\n",
    "# quick peek at merged taxi+weather data\n",
    "df_weather.select(\"tpep_pickup_datetime\", \"trip_distance\", \"total_amount\",\n",
    "                  \"pickup_date\", \"TMAX\", \"TMIN\", \"PRCP\", \"AWND\").show(5, truncate=False)"
   ]
  },
  {
   "cell_type": "code",
   "execution_count": 31,
   "id": "0b47eadc-f37e-4845-bf42-34b864c6cada",
   "metadata": {},
   "outputs": [
    {
     "name": "stderr",
     "output_type": "stream",
     "text": [
      "[Stage 31:=============================================>            (7 + 2) / 9]\r"
     ]
    },
    {
     "name": "stdout",
     "output_type": "stream",
     "text": [
      "+-----------+------------------+------------------+------------------+-------+\n",
      "|pickup_hour|p50_$per_min      |p10               |p90               |trips  |\n",
      "+-----------+------------------+------------------+------------------+-------+\n",
      "|0          |1.517578125       |1.0764119601328905|2.465619742007852 |1274502|\n",
      "|1          |1.5614457831325301|1.1164972634870993|2.531645569620253 |882690 |\n",
      "|2          |1.5844660194174756|1.1416309012875536|2.5670103092783507|611114 |\n",
      "|3          |1.613793103448276 |1.1541984732824428|2.648936170212766 |433905 |\n",
      "|4          |1.692821368948247 |1.168986083499006 |2.823529411764706 |338688 |\n",
      "|5          |1.8537313432835818|1.2427184466019416|2.9820359281437128|404696 |\n",
      "|6          |1.6334801762114537|1.125             |2.658064516129032 |941819 |\n",
      "|7          |1.4090121317157713|0.9773195876288661|2.338007380073801 |1638262|\n",
      "|8          |1.2747747747747749|0.8973637961335678|2.1710526315789473|2034938|\n",
      "|9          |1.2534031413612567|0.873156342182891 |2.15              |2047045|\n",
      "|10         |1.2577903682719547|0.875968992248062 |2.1176470588235294|2049505|\n",
      "|11         |1.2377777777777779|0.8688845401174168|2.064705882352941 |2140567|\n",
      "|12         |1.2361809045226133|0.8698884758364311|2.0549450549450547|2262521|\n",
      "|13         |1.2387200860446357|0.8793594306049822|2.044736842105263 |2288216|\n",
      "|14         |1.212162162162162 |0.8703535811423391|1.9983471074380166|2418300|\n",
      "|15         |1.1993756503642041|0.8629032258064515|1.9882037533512062|2437115|\n",
      "|16         |1.275808936825886 |0.8990228013029317|2.1890109890109892|2291140|\n",
      "|17         |1.2768595041322315|0.9044628099173554|2.1858407079646014|2601021|\n",
      "|18         |1.32              |0.937691521961185 |2.227272727272727 |2880601|\n",
      "|19         |1.3951367781155015|0.9830065359477124|2.3202416918429005|2710015|\n",
      "|20         |1.4259359739555073|1.0150913423351866|2.3162790697674422|2472122|\n",
      "|21         |1.4346863468634687|1.0297107114933541|2.3040000000000003|2456603|\n",
      "|22         |1.4389275074478647|1.035             |2.309090909090909 |2299513|\n",
      "|23         |1.4714285714285715|1.0469483568075117|2.3819899944413563|1795480|\n",
      "+-----------+------------------+------------------+------------------+-------+\n",
      "\n"
     ]
    },
    {
     "name": "stderr",
     "output_type": "stream",
     "text": [
      "                                                                                \r"
     ]
    }
   ],
   "source": [
    "# earnings by hour of day\n",
    "\n",
    "by_hour = (\n",
    "    df3.groupBy(\"pickup_hour\")\n",
    "       .agg(\n",
    "           F.expr(\"percentile_approx(earnings_per_min, 0.5)\").alias(\"p50_$per_min\"),\n",
    "           F.expr(\"percentile_approx(earnings_per_min, 0.1)\").alias(\"p10\"),\n",
    "           F.expr(\"percentile_approx(earnings_per_min, 0.9)\").alias(\"p90\"),\n",
    "           F.count(\"*\").alias(\"trips\")\n",
    "       )\n",
    "       .orderBy(\"pickup_hour\")\n",
    ")\n",
    "by_hour.show(24, truncate=False)"
   ]
  },
  {
   "cell_type": "code",
   "execution_count": 25,
   "id": "0535c8d1-423d-4bf9-a59b-b9fab8639d78",
   "metadata": {},
   "outputs": [
    {
     "name": "stderr",
     "output_type": "stream",
     "text": [
      "[Stage 19:======================================>                   (6 + 3) / 9]\r"
     ]
    },
    {
     "name": "stdout",
     "output_type": "stream",
     "text": [
      "+----------+------------------+-------+\n",
      "|pickup_dow|p50_$per_min      |trips  |\n",
      "+----------+------------------+-------+\n",
      "|Mon       |1.4042553191489362|5472720|\n",
      "|Tue       |1.3351648351648353|6306800|\n",
      "|Wed       |1.3130563798219586|6589202|\n",
      "|Thu       |1.28526863084922  |6861282|\n",
      "|Fri       |1.3028846153846154|6794527|\n",
      "|Sat       |1.3604014598540148|6302436|\n",
      "|Sun       |1.4572405929304446|5383411|\n",
      "+----------+------------------+-------+\n",
      "\n"
     ]
    },
    {
     "name": "stderr",
     "output_type": "stream",
     "text": [
      "                                                                                \r"
     ]
    }
   ],
   "source": [
    "# earnings by day of week\n",
    "\n",
    "by_dow = (\n",
    "    df3.groupBy(\"pickup_dow\")\n",
    "       .agg(\n",
    "           F.expr(\"percentile_approx(earnings_per_min, 0.5)\").alias(\"p50_$per_min\"),\n",
    "           F.count(\"*\").alias(\"trips\")\n",
    "       )\n",
    "       .orderBy(F.expr(\"array_position(array('Mon','Tue','Wed','Thu','Fri','Sat','Sun'), pickup_dow)\"))\n",
    ")\n",
    "by_dow.show(truncate=False)"
   ]
  },
  {
   "cell_type": "code",
   "execution_count": 33,
   "id": "4f09bbac-aa50-4d3c-a11a-d6d17426144f",
   "metadata": {},
   "outputs": [
    {
     "name": "stderr",
     "output_type": "stream",
     "text": [
      "[Stage 37:=============================================>            (7 + 2) / 9]\r"
     ]
    },
    {
     "name": "stdout",
     "output_type": "stream",
     "text": [
      "+---------+----------------------------+-------+------------------+\n",
      "|PUBorough|PUZone                      |trips  |p50_$per_min      |\n",
      "+---------+----------------------------+-------+------------------+\n",
      "|Queens   |Flushing Meadows-Corona Park|7280   |2.4203612479474548|\n",
      "|Manhattan|Randalls Island             |3095   |1.9378342832091189|\n",
      "|Queens   |Maspeth                     |3189   |1.881145584725537 |\n",
      "|Manhattan|Yorkville West              |816867 |1.5579831932773107|\n",
      "|Queens   |South Jamaica               |6830   |1.5417509591907919|\n",
      "|Queens   |Briarwood/Jamaica Hills     |5800   |1.5357142857142858|\n",
      "|Queens   |Corona                      |3632   |1.5263157894736843|\n",
      "|Queens   |Baisley Park                |16157  |1.5023236852833266|\n",
      "|Queens   |East Elmhurst               |14312  |1.489539748953975 |\n",
      "|Queens   |JFK Airport                 |1248879|1.4829778672032194|\n",
      "|Queens   |Jamaica                     |8039   |1.4758597662771287|\n",
      "|Manhattan|Upper West Side South       |1142065|1.4712643678160922|\n",
      "|Manhattan|Lenox Hill West             |1023167|1.470648815653965 |\n",
      "|Manhattan|Yorkville East              |532799 |1.4698564593301435|\n",
      "|Manhattan|Upper West Side North       |875195 |1.463235294117647 |\n",
      "|Queens   |LaGuardia Airport           |1150472|1.461850443599493 |\n",
      "|Queens   |Kew Gardens                 |3733   |1.4446419236800838|\n",
      "|Manhattan|Upper East Side North       |1732869|1.4364406779661019|\n",
      "|Queens   |Springfield Gardens South   |4883   |1.4221258134490238|\n",
      "|Queens   |Steinway                    |22075  |1.4166666666666667|\n",
      "+---------+----------------------------+-------+------------------+\n",
      "only showing top 20 rows\n"
     ]
    },
    {
     "name": "stderr",
     "output_type": "stream",
     "text": [
      "                                                                                \r"
     ]
    }
   ],
   "source": [
    "## here im gonna map some zone ids to human names, join to trips, and then rank all these\n",
    "## pickup areas by $/min\n",
    "\n",
    "import os\n",
    "zones_csv = os.path.expanduser(\"~/Documents/GitHub/MAST30034_Python/data/taxi_zones/taxi+_zone_lookup.csv\")\n",
    "\n",
    "# read the TLC zone lookup\n",
    "zones = (spark.read.csv(zones_csv, header=True)\n",
    "              .select(F.col(\"LocationID\").cast(\"int\").alias(\"LocationID\"),\n",
    "                      \"Borough\",\"Zone\"))\n",
    "# build two tables, for pickup and for dropoff\n",
    "pu = zones.select(F.col(\"LocationID\").alias(\"PULocationID\"),\n",
    "                  F.col(\"Borough\").alias(\"PUBorough\"),\n",
    "                  F.col(\"Zone\").alias(\"PUZone\"))\n",
    "do = zones.select(F.col(\"LocationID\").alias(\"DOLocationID\"),\n",
    "                  F.col(\"Borough\").alias(\"DOBorough\"),\n",
    "                  F.col(\"Zone\").alias(\"DOZone\"))\n",
    "\n",
    "# attach human-readable zones to every trip\n",
    "dfz = df3.join(pu, \"PULocationID\", \"left\").join(do, \"DOLocationID\", \"left\")\n",
    "\n",
    "# rank these pickup locations by median earnings per minute\n",
    "top_pu = (\n",
    "    dfz.groupBy(\"PUBorough\",\"PUZone\")\n",
    "       .agg(\n",
    "           F.count(\"*\").alias(\"trips\"),\n",
    "           F.expr(\"percentile_approx(earnings_per_min, 0.5)\").alias(\"p50_$per_min\")\n",
    "       )\n",
    "       .filter(\"trips >= 2000\")     # avoid sample that are too tiny\n",
    "       .orderBy(F.desc(\"p50_$per_min\"))\n",
    ")\n",
    "top_pu.show(20, truncate=False)"
   ]
  },
  {
   "cell_type": "code",
   "execution_count": 35,
   "id": "f2bd4422-9178-43aa-a685-e1a2bde94fad",
   "metadata": {},
   "outputs": [
    {
     "name": "stderr",
     "output_type": "stream",
     "text": [
      "[Stage 40:=============================================>            (7 + 2) / 9]\r"
     ]
    },
    {
     "name": "stdout",
     "output_type": "stream",
     "text": [
      "+--------+------------------+--------+\n",
      "|dist_bin|p50_$per_min      |trips   |\n",
      "+--------+------------------+--------+\n",
      "|0–1     |1.8383458646616542|10648548|\n",
      "|10+     |1.4721900347624566|2778439 |\n",
      "|1–3     |1.2633262260127933|21702520|\n",
      "|3–5     |1.1222493887530562|4880587 |\n",
      "|5–10    |1.2738939816660024|3700284 |\n",
      "+--------+------------------+--------+\n",
      "\n"
     ]
    },
    {
     "name": "stderr",
     "output_type": "stream",
     "text": [
      "                                                                                \r"
     ]
    }
   ],
   "source": [
    "# bucket the trips by distance and see how the median $/min changes, with respect to trip length\n",
    "\n",
    "dist_bins = (\n",
    "    df3.select(\n",
    "        F.when(F.col(\"trip_distance\")<1, \"0–1\")\n",
    "         .when(F.col(\"trip_distance\")<3, \"1–3\")\n",
    "         .when(F.col(\"trip_distance\")<5, \"3–5\")\n",
    "         .when(F.col(\"trip_distance\")<10,\"5–10\")\n",
    "         .otherwise(\"10+\").alias(\"dist_bin\"),\n",
    "        \"earnings_per_min\"\n",
    "    )\n",
    "    .groupBy(\"dist_bin\")\n",
    "    .agg(\n",
    "        F.expr(\"percentile_approx(earnings_per_min,0.5)\").alias(\"p50_$per_min\"),\n",
    "        F.count(\"*\").alias(\"trips\")\n",
    "    )\n",
    "    .orderBy(\"dist_bin\")\n",
    ")\n",
    "dist_bins.show(truncate=False)"
   ]
  },
  {
   "cell_type": "code",
   "execution_count": 37,
   "id": "eb401056-295e-42c4-8cae-95d463d660c1",
   "metadata": {},
   "outputs": [
    {
     "name": "stderr",
     "output_type": "stream",
     "text": [
      "[Stage 43:===================================================>      (8 + 1) / 9]\r"
     ]
    },
    {
     "name": "stdout",
     "output_type": "stream",
     "text": [
      "saved to: /Users/habibhaadi/Documents/GitHub/MAST30034_Python/data/tute_data/df3_clean.parquet\n"
     ]
    },
    {
     "name": "stderr",
     "output_type": "stream",
     "text": [
      "                                                                                \r"
     ]
    }
   ],
   "source": [
    "## so im gonna cache this cleaned dataset so i dont have to recompute it next time\n",
    "\n",
    "import os\n",
    "\n",
    "clean_parquet = os.path.expanduser(\n",
    "    \"~/Documents/GitHub/MAST30034_Python/data/tute_data/df3_clean.parquet\"\n",
    ")\n",
    "\n",
    "# make sure the parent folder exists\n",
    "os.makedirs(os.path.dirname(clean_parquet), exist_ok=True)\n",
    "\n",
    "# then overwrite to make sure that old cache is always replaced\n",
    "df3.write.mode(\"overwrite\").parquet(clean_parquet)\n",
    "\n",
    "print(\"saved to: \" + clean_parquet + \"innit\")"
   ]
  },
  {
   "cell_type": "code",
   "execution_count": 39,
   "id": "fba5f698-be73-45cd-a567-d2484303c190",
   "metadata": {},
   "outputs": [
    {
     "name": "stderr",
     "output_type": "stream",
     "text": [
      "                                                                                \r"
     ]
    },
    {
     "name": "stdout",
     "output_type": "stream",
     "text": [
      "+-----------+------------------+------------------+------------------+-------+\n",
      "|pickup_hour|p50_$per_min      |p10               |p90               |trips  |\n",
      "+-----------+------------------+------------------+------------------+-------+\n",
      "|0          |1.517578125       |1.0764119601328905|2.465619742007852 |1274502|\n",
      "|1          |1.5614457831325301|1.1164972634870993|2.531645569620253 |882690 |\n",
      "|2          |1.5844660194174756|1.1416309012875536|2.5670103092783507|611114 |\n",
      "|3          |1.613793103448276 |1.1541984732824428|2.648936170212766 |433905 |\n",
      "|4          |1.692821368948247 |1.168986083499006 |2.823529411764706 |338688 |\n",
      "|5          |1.8537313432835818|1.2427184466019416|2.9820359281437128|404696 |\n",
      "|6          |1.6334801762114537|1.125             |2.658064516129032 |941819 |\n",
      "|7          |1.4090121317157713|0.9773195876288661|2.338007380073801 |1638262|\n",
      "|8          |1.2747747747747749|0.8973637961335678|2.1710526315789473|2034938|\n",
      "|9          |1.2534031413612567|0.873156342182891 |2.15              |2047045|\n",
      "|10         |1.2577903682719547|0.875968992248062 |2.1176470588235294|2049505|\n",
      "|11         |1.2377777777777779|0.8688845401174168|2.064705882352941 |2140567|\n",
      "|12         |1.2361809045226133|0.8698884758364311|2.0549450549450547|2262521|\n",
      "|13         |1.2387200860446357|0.8793594306049822|2.044736842105263 |2288216|\n",
      "|14         |1.212162162162162 |0.8703535811423391|1.9983471074380166|2418300|\n",
      "|15         |1.1993756503642041|0.8629032258064515|1.9882037533512062|2437115|\n",
      "|16         |1.275808936825886 |0.8990228013029317|2.1890109890109892|2291140|\n",
      "|17         |1.2768595041322315|0.9044628099173554|2.1858407079646014|2601021|\n",
      "|18         |1.32              |0.937691521961185 |2.227272727272727 |2880601|\n",
      "|19         |1.3951367781155015|0.9830065359477124|2.3202416918429005|2710015|\n",
      "|20         |1.4259359739555073|1.0150913423351866|2.3162790697674422|2472122|\n",
      "|21         |1.4346863468634687|1.0297107114933541|2.3040000000000003|2456603|\n",
      "|22         |1.4389275074478647|1.035             |2.309090909090909 |2299513|\n",
      "|23         |1.4714285714285715|1.0469483568075117|2.3819899944413563|1795480|\n",
      "+-----------+------------------+------------------+------------------+-------+\n",
      "\n"
     ]
    },
    {
     "name": "stderr",
     "output_type": "stream",
     "text": [
      "[Stage 47:=============================================>            (7 + 2) / 9]\r"
     ]
    },
    {
     "name": "stdout",
     "output_type": "stream",
     "text": [
      "+----------+------------------+-------+\n",
      "|pickup_dow|p50_$per_min      |trips  |\n",
      "+----------+------------------+-------+\n",
      "|Mon       |1.4042553191489362|5472720|\n",
      "|Tue       |1.3351648351648353|6306800|\n",
      "|Wed       |1.3130563798219586|6589202|\n",
      "|Thu       |1.28526863084922  |6861282|\n",
      "|Fri       |1.3028846153846154|6794527|\n",
      "|Sat       |1.3604014598540148|6302436|\n",
      "|Sun       |1.4572405929304446|5383411|\n",
      "+----------+------------------+-------+\n",
      "\n"
     ]
    },
    {
     "name": "stderr",
     "output_type": "stream",
     "text": [
      "                                                                                \r"
     ]
    }
   ],
   "source": [
    "## Earnings vs Time, I did sm time-based performance summaries\n",
    "\n",
    "# performance by hour of day\n",
    "by_hour = (\n",
    "    df3.groupBy(\"pickup_hour\")\n",
    "       .agg(\n",
    "           F.expr(\"percentile_approx(earnings_per_min, 0.5)\").alias(\"p50_$per_min\"),\n",
    "           F.expr(\"percentile_approx(earnings_per_min, 0.1)\").alias(\"p10\"),\n",
    "           F.expr(\"percentile_approx(earnings_per_min, 0.9)\").alias(\"p90\"),\n",
    "           F.count(\"*\").alias(\"trips\")\n",
    "       )\n",
    "       .orderBy(\"pickup_hour\")\n",
    ")\n",
    "\n",
    "# performance by day of week\n",
    "by_dow = (\n",
    "    df3.groupBy(\"pickup_dow\")\n",
    "       .agg(\n",
    "           F.expr(\"percentile_approx(earnings_per_min, 0.5)\").alias(\"p50_$per_min\"),\n",
    "           F.count(\"*\").alias(\"trips\")\n",
    "       )\n",
    "       .orderBy(F.expr(\"array_position(array('Mon','Tue','Wed','Thu','Fri','Sat','Sun'), pickup_dow)\"))\n",
    ")\n",
    "\n",
    "by_hour.show(24, truncate=False)\n",
    "by_dow.show(truncate=False)"
   ]
  },
  {
   "cell_type": "code",
   "execution_count": 41,
   "id": "5ea7b469-3f76-4054-a133-8f6799fff32b",
   "metadata": {},
   "outputs": [
    {
     "name": "stderr",
     "output_type": "stream",
     "text": [
      "                                                                                \r"
     ]
    },
    {
     "data": {
      "image/png": "[encoded data removed]",
      "text/plain": [
       "<Figure size 640x480 with 1 Axes>"
      ]
     },
     "metadata": {},
     "output_type": "display_data"
    },
    {
     "data": {
      "image/png": "[encoded data removed]",
      "text/plain": [
       "<Figure size 640x480 with 1 Axes>"
      ]
     },
     "metadata": {},
     "output_type": "display_data"
    }
   ],
   "source": [
    "## graph the above earnings vs time\n",
    "\n",
    "bh = by_hour.toPandas()\n",
    "bd = by_dow.toPandas()\n",
    "\n",
    "import matplotlib.pyplot as plt\n",
    "\n",
    "bh.plot(x=\"pickup_hour\", y=\"p50_$per_min\", kind=\"line\", marker=\"o\")\n",
    "plt.title(\"Median $/min by Hour\"); plt.ylabel(\"$ per minute\"); plt.xlabel(\"Hour of day (0–23)\"); plt.show()\n",
    "\n",
    "bd.plot(x=\"pickup_dow\", y=\"p50_$per_min\", kind=\"bar\")\n",
    "plt.title(\"Median $/min by Day\"); plt.ylabel(\"$ per minute\"); plt.xlabel(\"Day of week\"); plt.show()"
   ]
  },
  {
   "cell_type": "code",
   "execution_count": 45,
   "id": "26373c07-4a3c-4619-8a69-28e6674417eb",
   "metadata": {},
   "outputs": [
    {
     "name": "stderr",
     "output_type": "stream",
     "text": [
      "[Stage 73:===================================================>      (8 + 1) / 9]\r"
     ]
    },
    {
     "name": "stdout",
     "output_type": "stream",
     "text": [
      "+---------+----------------------------+-------+------------------+\n",
      "|PUBorough|PUZone                      |trips  |p50_$per_min      |\n",
      "+---------+----------------------------+-------+------------------+\n",
      "|Queens   |Flushing Meadows-Corona Park|7280   |2.4203612479474548|\n",
      "|Manhattan|Randalls Island             |3095   |1.9378342832091189|\n",
      "|Queens   |Maspeth                     |3189   |1.881145584725537 |\n",
      "|Manhattan|Yorkville West              |816867 |1.5579831932773107|\n",
      "|Queens   |South Jamaica               |6830   |1.5417509591907919|\n",
      "|Queens   |Briarwood/Jamaica Hills     |5800   |1.5357142857142858|\n",
      "|Queens   |Corona                      |3632   |1.5263157894736843|\n",
      "|Queens   |Baisley Park                |16157  |1.5023236852833266|\n",
      "|Queens   |East Elmhurst               |14312  |1.489539748953975 |\n",
      "|Queens   |JFK Airport                 |1248879|1.4829778672032194|\n",
      "|Queens   |Jamaica                     |8039   |1.4758597662771287|\n",
      "|Manhattan|Upper West Side South       |1142065|1.4712643678160922|\n",
      "|Manhattan|Lenox Hill West             |1023167|1.470648815653965 |\n",
      "|Manhattan|Yorkville East              |532799 |1.4698564593301435|\n",
      "|Manhattan|Upper West Side North       |875195 |1.463235294117647 |\n",
      "|Queens   |LaGuardia Airport           |1150472|1.461850443599493 |\n",
      "|Queens   |Kew Gardens                 |3733   |1.4446419236800838|\n",
      "|Manhattan|Upper East Side North       |1732869|1.4364406779661019|\n",
      "|Queens   |Springfield Gardens South   |4883   |1.4221258134490238|\n",
      "|Queens   |Steinway                    |22075  |1.4166666666666667|\n",
      "+---------+----------------------------+-------+------------------+\n",
      "only showing top 20 rows\n"
     ]
    },
    {
     "name": "stderr",
     "output_type": "stream",
     "text": [
      "                                                                                \r"
     ]
    }
   ],
   "source": [
    "## Get the best areas for pickup\n",
    "\n",
    "import os\n",
    "zones_csv = os.path.expanduser(\n",
    "    \"~/Documents/GitHub/MAST30034_Python/data/taxi_zones/taxi+_zone_lookup.csv\"\n",
    ")\n",
    "\n",
    "zones = (\n",
    "    spark.read.csv(zones_csv, header=True)\n",
    "         .select(\n",
    "             F.col(\"LocationID\").cast(\"int\").alias(\"LocationID\"),\n",
    "             \"Borough\",\n",
    "             \"Zone\"\n",
    "         )\n",
    ")\n",
    "\n",
    "# gotta rename the columns so they line up with trip schema for pidkups\n",
    "pu = zones.select(\n",
    "    F.col(\"LocationID\").alias(\"PULocationID\"),\n",
    "    F.col(\"Borough\").alias(\"PUBorough\"),\n",
    "    F.col(\"Zone\").alias(\"PUZone\")\n",
    ")\n",
    "\n",
    "# add pickup zone names onto trips\n",
    "dfz = df3.join(pu, \"PULocationID\", \"left\")\n",
    "\n",
    "# rank pickup zones by median earnings/min (and show trip volume)\n",
    "top_pu = (\n",
    "    dfz.groupBy(\"PUBorough\", \"PUZone\")\n",
    "       .agg(\n",
    "           F.count(\"*\").alias(\"trips\"),\n",
    "           F.expr(\"percentile_approx(earnings_per_min, 0.5)\").alias(\"p50_$per_min\")\n",
    "       )\n",
    "       .filter(\"trips >= 2000\") \n",
    "       .orderBy(F.desc(\"p50_$per_min\"))    \n",
    ")\n",
    "\n",
    "top_pu.show(20, truncate=False)"
   ]
  },
  {
   "cell_type": "code",
   "execution_count": 47,
   "id": "611b04e6-6ed4-42b1-9ca2-86085a7a8ae0",
   "metadata": {},
   "outputs": [
    {
     "name": "stderr",
     "output_type": "stream",
     "text": [
      "                                                                                \r"
     ]
    },
    {
     "data": {
      "image/png": "[encoded data removed]",
      "text/plain": [
       "<Figure size 640x480 with 2 Axes>"
      ]
     },
     "metadata": {},
     "output_type": "display_data"
    }
   ],
   "source": [
    "## hour x borough heatmap\n",
    "\n",
    "hour_boro = (\n",
    "    dfz.groupBy(\"pickup_hour\",\"PUBorough\")\n",
    "       .agg(F.expr(\"percentile_approx(earnings_per_min,0.5)\").alias(\"p50\"))\n",
    ")\n",
    "\n",
    "# each borough would be its own column\n",
    "pdf_hb = (\n",
    "    hour_boro.toPandas()\n",
    "             .pivot(index=\"pickup_hour\", columns=\"PUBorough\", values=\"p50\")\n",
    "             .sort_index()\n",
    ")\n",
    "\n",
    "import matplotlib.pyplot as plt\n",
    "plt.imshow(pdf_hb, aspect=\"auto\")   # simple heatmap\n",
    "plt.xticks(range(len(pdf_hb.columns)), pdf_hb.columns, rotation=45)\n",
    "plt.yticks(range(len(pdf_hb.index)), pdf_hb.index)\n",
    "plt.colorbar(label=\"Median $/min\")\n",
    "plt.title(\"Median $/min by Hour × Borough\")\n",
    "plt.xlabel(\"Borough\"); plt.ylabel(\"Hour\")\n",
    "plt.show()"
   ]
  },
  {
   "cell_type": "code",
   "execution_count": 49,
   "id": "14e33ccd-0883-4ed3-87ae-b1bb8d8b8550",
   "metadata": {},
   "outputs": [
    {
     "name": "stderr",
     "output_type": "stream",
     "text": [
      "[Stage 80:===================================================>      (8 + 1) / 9]\r"
     ]
    },
    {
     "name": "stdout",
     "output_type": "stream",
     "text": [
      "+--------+------------------+--------+\n",
      "|dist_bin|p50_$per_min      |trips   |\n",
      "+--------+------------------+--------+\n",
      "|0–1     |1.8383458646616542|10648548|\n",
      "|10+     |1.4721900347624566|2778439 |\n",
      "|1–3     |1.2633262260127933|21702520|\n",
      "|3–5     |1.1222493887530562|4880587 |\n",
      "|5–10    |1.2738939816660024|3700284 |\n",
      "+--------+------------------+--------+\n",
      "\n"
     ]
    },
    {
     "name": "stderr",
     "output_type": "stream",
     "text": [
      "                                                                                \r"
     ]
    }
   ],
   "source": [
    "# distance sweeet spots\n",
    "\n",
    "dist_bins = (\n",
    "    df3.select(\n",
    "        F.when(F.col(\"trip_distance\")<1, \"0–1\")\n",
    "         .when(F.col(\"trip_distance\")<3, \"1–3\")\n",
    "         .when(F.col(\"trip_distance\")<5, \"3–5\")\n",
    "         .when(F.col(\"trip_distance\")<10,\"5–10\")\n",
    "         .otherwise(\"10+\").alias(\"dist_bin\"),\n",
    "        \"earnings_per_min\"\n",
    "    )\n",
    "    .groupBy(\"dist_bin\")\n",
    "    .agg(F.expr(\"percentile_approx(earnings_per_min,0.5)\").alias(\"p50_$per_min\"),\n",
    "         F.count(\"*\").alias(\"trips\"))\n",
    "    .orderBy(\"dist_bin\")\n",
    ")\n",
    "dist_bins.show(truncate=False)"
   ]
  },
  {
   "cell_type": "code",
   "execution_count": 53,
   "id": "a19393ed-dc8d-452b-b91f-0f9bf1824279",
   "metadata": {},
   "outputs": [
    {
     "name": "stderr",
     "output_type": "stream",
     "text": [
      "                                                                                \r"
     ]
    },
    {
     "name": "stdout",
     "output_type": "stream",
     "text": [
      "artefacts saved into: /Users/habibhaadi/Documents/GitHub/MAST30034_Python/data/tute_data\n"
     ]
    }
   ],
   "source": [
    "# gonna save these for later so i don't have to recompute them\n",
    "\n",
    "import os\n",
    "\n",
    "artefact_dir = os.path.expanduser(\"~/Documents/GitHub/MAST30034_Python/data/tute_data\")\n",
    "\n",
    "\n",
    "df3.write.mode(\"overwrite\").parquet(os.path.join(artefact_dir, \"df3_clean.parquet\"))\n",
    "by_hour.write.mode(\"overwrite\").csv(os.path.join(artefact_dir, \"by_hour.csv\"), header=True)\n",
    "by_dow.write.mode(\"overwrite\").csv(os.path.join(artefact_dir, \"by_dow.csv\"), header=True)\n",
    "top_pu.write.mode(\"overwrite\").csv(os.path.join(artefact_dir, \"top_pickup_zones.csv\"), header=True)\n",
    "\n",
    "print(\"artefacts saved into:\", artefact_dir)"
   ]
  },
  {
   "cell_type": "code",
   "execution_count": 77,
   "id": "980efa2e-f508-4373-a0bc-44b55a7e7d3a",
   "metadata": {},
   "outputs": [
    {
     "name": "stderr",
     "output_type": "stream",
     "text": [
      "                                                                                \r"
     ]
    },
    {
     "name": "stdout",
     "output_type": "stream",
     "text": [
      "+-------+------------------+---------+--------+\n",
      "|is_rain|p50_$per_min      |p50_miles|trips   |\n",
      "+-------+------------------+---------+--------+\n",
      "|true   |1.35632183908046  |1.65     |16195806|\n",
      "|false  |1.34014598540146  |1.66     |27514019|\n",
      "|NULL   |1.2008059100067159|1.8      |553     |\n",
      "+-------+------------------+---------+--------+\n",
      "\n"
     ]
    },
    {
     "name": "stderr",
     "output_type": "stream",
     "text": [
      "                                                                                \r"
     ]
    },
    {
     "data": {
      "image/png": "[encoded data removed]",
      "text/plain": [
       "<Figure size 640x480 with 1 Axes>"
      ]
     },
     "metadata": {},
     "output_type": "display_data"
    }
   ],
   "source": [
    "## alright i wanna bring it the NYC weather dataset\n",
    "## im gonna start by comparing rainy vs dry days\n",
    "\n",
    "from pyspark.sql import functions as F\n",
    "import matplotlib.pyplot as plt\n",
    "\n",
    "dfw = df_weather.withColumn(\"is_rain\", (F.col(\"PRCP\") >= 1.0).cast(\"boolean\"))\n",
    "\n",
    "rain_vs_dry = (\n",
    "    dfw.groupBy(\"is_rain\")\n",
    "       .agg(\n",
    "           F.expr(\"percentile_approx(earnings_per_min,0.5)\").alias(\"p50_$per_min\"),\n",
    "           F.expr(\"percentile_approx(trip_distance,0.5)\").alias(\"p50_miles\"),\n",
    "           F.count(\"*\").alias(\"trips\")\n",
    "       )\n",
    "       .orderBy(F.desc(\"is_rain\"))\n",
    ")\n",
    "\n",
    "rain_vs_dry.show(truncate=False)\n",
    "\n",
    "# bar graph is probably best for this, plotting median $/min for rainy vs dry days\n",
    "pdf_rain = rain_vs_dry.toPandas()\n",
    "labels = [\"rain\" if x else \"dry\" for x in pdf_rain[\"is_rain\"]]\n",
    "plt.bar(labels, pdf_rain[\"p50_$per_min\"])\n",
    "plt.ylabel(\"Median $/min\")\n",
    "plt.title(\"Rain vs Dry — median $/min\")\n",
    "plt.show()"
   ]
  },
  {
   "cell_type": "code",
   "execution_count": 79,
   "id": "93bdab4a-1c50-4b2c-b242-272a885cbffb",
   "metadata": {},
   "outputs": [
    {
     "name": "stderr",
     "output_type": "stream",
     "text": [
      "                                                                                \r"
     ]
    },
    {
     "name": "stdout",
     "output_type": "stream",
     "text": [
      "+--------+------------------+-------+\n",
      "|temp_bin|p50_$per_min      |trips  |\n",
      "+--------+------------------+-------+\n",
      "|<0      |1.27007299270073  |7408039|\n",
      "|0–5     |1.3399103139013453|7645973|\n",
      "|5–10    |1.3547038327526133|7396744|\n",
      "|10–15   |1.3779761904761902|6706952|\n",
      "|15–20   |1.3678756476683938|7388691|\n",
      "|20–25   |1.3827814569536425|5986344|\n",
      "|25+     |1.326241134751773 |1177635|\n",
      "+--------+------------------+-------+\n",
      "\n"
     ]
    },
    {
     "name": "stderr",
     "output_type": "stream",
     "text": [
      "                                                                                \r"
     ]
    },
    {
     "data": {
      "image/png": "[encoded data removed]",
      "text/plain": [
       "<Figure size 640x480 with 1 Axes>"
      ]
     },
     "metadata": {},
     "output_type": "display_data"
    }
   ],
   "source": [
    "## then i can compare $/min by temperature too\n",
    "\n",
    "from pyspark.sql import functions as F\n",
    "import matplotlib.pyplot as plt\n",
    "\n",
    "dfw_t = df_weather.withColumn(\"tavg_c\", (F.col(\"TMAX\") + F.col(\"TMIN\")) / 2.0)\n",
    "\n",
    "temp_bins = (\n",
    "    dfw_t.select(\n",
    "        F.when(F.col(\"tavg_c\") < 0, \"<0\")\n",
    "         .when(F.col(\"tavg_c\") < 5, \"0–5\")\n",
    "         .when(F.col(\"tavg_c\") < 10, \"5–10\")\n",
    "         .when(F.col(\"tavg_c\") < 15, \"10–15\")\n",
    "         .when(F.col(\"tavg_c\") < 20, \"15–20\")\n",
    "         .when(F.col(\"tavg_c\") < 25, \"20–25\")\n",
    "         .otherwise(\"25+\").alias(\"temp_bin\"),\n",
    "        \"earnings_per_min\"\n",
    "    )\n",
    "    .groupBy(\"temp_bin\")\n",
    "    .agg(\n",
    "        F.expr(\"percentile_approx(earnings_per_min,0.5)\").alias(\"p50_$per_min\"),\n",
    "        F.count(\"*\").alias(\"trips\")\n",
    "    )\n",
    ")\n",
    "\n",
    "# just to make the bins in order\n",
    "order = [\"<0\",\"0–5\",\"5–10\",\"10–15\",\"15–20\",\"20–25\",\"25+\"]\n",
    "temp_bins = (temp_bins\n",
    "    .withColumn(\"ord\", F.array_position(F.array([F.lit(x) for x in order]), F.col(\"temp_bin\")))\n",
    "    .orderBy(\"ord\")\n",
    "    .drop(\"ord\")\n",
    ")\n",
    "\n",
    "temp_bins.show(truncate=False)\n",
    "\n",
    "# again bar plot is best\n",
    "pdf_tmp = temp_bins.toPandas()\n",
    "plt.bar(pdf_tmp[\"temp_bin\"], pdf_tmp[\"p50_$per_min\"])\n",
    "plt.xlabel(\"Daily avg temp (°C, binned)\")\n",
    "plt.ylabel(\"Median $/min\")\n",
    "plt.title(\"Median $/min by temperature bin\")\n",
    "plt.show()"
   ]
  },
  {
   "cell_type": "code",
   "execution_count": 81,
   "id": "0ee5894d-f4f2-4308-9943-d7d470190b85",
   "metadata": {},
   "outputs": [
    {
     "name": "stderr",
     "output_type": "stream",
     "text": [
      "[Stage 151:=========================>                               (4 + 5) / 9]\r"
     ]
    },
    {
     "name": "stdout",
     "output_type": "stream",
     "text": [
      "+--------+------------------+--------+\n",
      "|rain_bin|p50_$per_min      |trips   |\n",
      "+--------+------------------+--------+\n",
      "|0–1mm   |1.34014598540146  |27514019|\n",
      "|15mm+   |1.349736379613357 |4553453 |\n",
      "|1–5mm   |1.3571428571428572|6374488 |\n",
      "|5–15mm  |1.3611940298507463|5268418 |\n",
      "+--------+------------------+--------+\n",
      "\n"
     ]
    },
    {
     "name": "stderr",
     "output_type": "stream",
     "text": [
      "                                                                                \r"
     ]
    }
   ],
   "source": [
    "## light vs medium vs heavy rain\n",
    "\n",
    "rb = (\n",
    "    df_weather.select(\n",
    "        F.when(F.col(\"PRCP\") < 1.0, \"0–1mm\")\n",
    "         .when(F.col(\"PRCP\") < 5.0, \"1–5mm\")\n",
    "         .when(F.col(\"PRCP\") < 15.0, \"5–15mm\")\n",
    "         .otherwise(\"15mm+\").alias(\"rain_bin\"),\n",
    "        \"earnings_per_min\"\n",
    "    )\n",
    "    .groupBy(\"rain_bin\")\n",
    "    .agg(F.expr(\"percentile_approx(earnings_per_min,0.5)\").alias(\"p50_$per_min\"),\n",
    "         F.count(\"*\").alias(\"trips\"))\n",
    "    .orderBy(\"rain_bin\")\n",
    ")\n",
    "rb.show(truncate=False)"
   ]
  },
  {
   "cell_type": "code",
   "execution_count": 85,
   "id": "a28c47ac-267e-44fd-bcaf-615ba3d4af1d",
   "metadata": {},
   "outputs": [
    {
     "name": "stderr",
     "output_type": "stream",
     "text": [
      "25/08/31 17:21:26 WARN Instrumentation: [1714b9c6] regParam is zero, which might cause numerical instability and overfitting.\n",
      "25/08/31 17:21:26 WARN InstanceBuilder: Failed to load implementation from:dev.ludovic.netlib.blas.JNIBLAS\n",
      "25/08/31 17:21:33 WARN InstanceBuilder: Failed to load implementation from:dev.ludovic.netlib.lapack.JNILAPACK\n",
      "[Stage 163:============================================>            (7 + 2) / 9]\r"
     ]
    },
    {
     "name": "stdout",
     "output_type": "stream",
     "text": [
      "✅ Regression model trained\n",
      "Coefficients: [0.11884897037673561,-0.056538439248212516,0.0015110851434466076,0.005753686512998171,0.00035847081830377847]\n",
      "Intercept: 1.909049457919135\n",
      "R^2: 0.3614413441204435\n",
      "RMSE: 0.5222481352408325\n",
      "+------------------+-------------------+-------------+------------------+----+\n",
      "|earnings_per_min  |prediction         |trip_distance|duration_min      |PRCP|\n",
      "+------------------+-------------------+-------------+------------------+----+\n",
      "|1.4925            |1.7551366948566014 |1.5          |6.666666666666667 |1.5 |\n",
      "|0.8489583333333334|1.1772554570267468 |2.6          |19.2              |1.5 |\n",
      "|1.2657342657342658|1.7040399884779516 |1.3          |7.15              |1.5 |\n",
      "|1.3569682151589242|1.6227199695895393 |3.7          |13.633333333333333|1.5 |\n",
      "|1.0833333333333333|1.5249077344255093 |2.1          |12.0              |1.5 |\n",
      "|0.8487698986975397|0.9842945673172794 |2.8          |23.033333333333335|1.5 |\n",
      "|1.3246753246753247|1.674192128367266  |0.7          |6.416666666666667 |1.5 |\n",
      "|0.9391399416909622|0.40208092160559517|8.7          |45.733333333333334|1.5 |\n",
      "|1.1688311688311688|1.3239390706507672 |6.3          |24.383333333333333|1.5 |\n",
      "|0.9053254437869823|1.3191787643353095 |2.7          |16.9              |1.5 |\n",
      "+------------------+-------------------+-------------+------------------+----+\n",
      "only showing top 10 rows\n"
     ]
    },
    {
     "name": "stderr",
     "output_type": "stream",
     "text": [
      "                                                                                \r"
     ]
    }
   ],
   "source": [
    "## okay now lets finish off with some ML, some deeper analysis before I get into report\n",
    "## here im gonna predict trip efficiency ($/min) using certain trip features and the weather,\n",
    "## using a linear regression model\n",
    "\n",
    "from pyspark.ml.feature import VectorAssembler\n",
    "from pyspark.ml.regression import LinearRegression\n",
    "from pyspark.ml import Pipeline\n",
    "\n",
    "# keep the useful fields and drop NAs\n",
    "ml_df = df_weather.select(\n",
    "    \"earnings_per_min\", \"trip_distance\", \"duration_min\", \"TMAX\", \"TMIN\", \"PRCP\"\n",
    ").dropna()\n",
    "\n",
    "feature_cols = [\"trip_distance\",\"duration_min\",\"TMAX\",\"TMIN\",\"PRCP\"]\n",
    "\n",
    "# assemble these features into vector\n",
    "assembler = VectorAssembler(inputCols=feature_cols, outputCol=\"features\")\n",
    "\n",
    "# build a linear regression model\n",
    "lr = LinearRegression(featuresCol=\"features\", labelCol=\"earnings_per_min\")\n",
    "\n",
    "# pipeline = assembler + regression\n",
    "pipeline = Pipeline(stages=[assembler, lr])\n",
    "\n",
    "# fit the model\n",
    "model = pipeline.fit(ml_df)\n",
    "\n",
    "# get some summary stats\n",
    "lr_model = model.stages[-1]\n",
    "print(\"✅ Regression model trained\")\n",
    "print(\"Coefficients:\", lr_model.coefficients)\n",
    "print(\"Intercept:\", lr_model.intercept)\n",
    "print(\"R^2:\", lr_model.summary.r2)\n",
    "print(\"RMSE:\", lr_model.summary.rootMeanSquaredError)\n",
    "\n",
    "# just have a look at some predictions\n",
    "preds = model.transform(ml_df).select(\"earnings_per_min\",\"prediction\",\"trip_distance\",\"duration_min\",\"PRCP\")\n",
    "preds.show(10, truncate=False)"
   ]
  },
  {
   "cell_type": "code",
   "execution_count": 89,
   "id": "53efde4e-4341-4847-af85-39fc9f9378c7",
   "metadata": {},
   "outputs": [
    {
     "name": "stderr",
     "output_type": "stream",
     "text": [
      "25/08/31 17:36:33 WARN MemoryStore: Not enough space to cache rdd_728_1 in memory! (computed 113.0 MiB so far)\n",
      "25/08/31 17:36:33 WARN BlockManager: Persisting block rdd_728_1 to disk instead.\n",
      "25/08/31 17:36:34 WARN MemoryStore: Not enough space to cache rdd_728_0 in memory! (computed 113.0 MiB so far)\n",
      "25/08/31 17:36:34 WARN BlockManager: Persisting block rdd_728_0 to disk instead.\n",
      "25/08/31 17:36:34 WARN MemoryStore: Not enough space to cache rdd_728_2 in memory! (computed 113.0 MiB so far)\n",
      "25/08/31 17:36:34 WARN BlockManager: Persisting block rdd_728_2 to disk instead.\n",
      "25/08/31 17:36:35 WARN MemoryStore: Not enough space to cache rdd_728_3 in memory! (computed 177.0 MiB so far)\n",
      "25/08/31 17:36:35 WARN BlockManager: Persisting block rdd_728_3 to disk instead.\n",
      "25/08/31 17:36:39 WARN MemoryStore: Not enough space to cache rdd_728_4 in memory! (computed 272.8 MiB so far)\n",
      "25/08/31 17:36:39 WARN BlockManager: Persisting block rdd_728_4 to disk instead.\n",
      "25/08/31 17:36:40 WARN MemoryStore: Not enough space to cache rdd_728_3 in memory! (computed 177.0 MiB so far)\n",
      "25/08/31 17:36:41 WARN MemoryStore: Not enough space to cache rdd_728_3 in memory! (computed 113.0 MiB so far)\n",
      "25/08/31 17:36:41 WARN MemoryStore: Not enough space to cache rdd_728_3 in memory! (computed 113.0 MiB so far)\n",
      "25/08/31 17:36:42 WARN MemoryStore: Not enough space to cache rdd_728_3 in memory! (computed 113.0 MiB so far)\n",
      "25/08/31 17:36:42 WARN MemoryStore: Not enough space to cache rdd_728_3 in memory! (computed 113.0 MiB so far)\n",
      "25/08/31 17:36:43 WARN MemoryStore: Not enough space to cache rdd_728_3 in memory! (computed 113.0 MiB so far)\n",
      "25/08/31 17:36:43 WARN MemoryStore: Not enough space to cache rdd_728_3 in memory! (computed 113.0 MiB so far)\n",
      "25/08/31 17:36:44 WARN MemoryStore: Not enough space to cache rdd_728_3 in memory! (computed 113.0 MiB so far)\n",
      "25/08/31 17:36:44 WARN MemoryStore: Not enough space to cache rdd_728_3 in memory! (computed 113.0 MiB so far)\n",
      "25/08/31 17:36:45 WARN MemoryStore: Not enough space to cache rdd_728_3 in memory! (computed 113.0 MiB so far)\n",
      "25/08/31 17:36:45 WARN MemoryStore: Not enough space to cache rdd_728_3 in memory! (computed 113.0 MiB so far)\n",
      "25/08/31 17:36:45 WARN MemoryStore: Not enough space to cache rdd_728_3 in memory! (computed 113.0 MiB so far)\n",
      "25/08/31 17:36:46 WARN MemoryStore: Not enough space to cache rdd_728_3 in memory! (computed 113.0 MiB so far)\n",
      "25/08/31 17:36:46 WARN MemoryStore: Not enough space to cache rdd_728_3 in memory! (computed 113.0 MiB so far)\n",
      "25/08/31 17:36:47 WARN MemoryStore: Not enough space to cache rdd_728_3 in memory! (computed 113.0 MiB so far)\n",
      "25/08/31 17:36:47 WARN MemoryStore: Not enough space to cache rdd_728_3 in memory! (computed 113.0 MiB so far)\n",
      "25/08/31 17:36:48 WARN MemoryStore: Not enough space to cache rdd_728_3 in memory! (computed 113.0 MiB so far)\n",
      "25/08/31 17:36:48 WARN MemoryStore: Not enough space to cache rdd_728_3 in memory! (computed 113.0 MiB so far)\n",
      "[Stage 275:===================>                                     (3 + 6) / 9]\r"
     ]
    },
    {
     "name": "stdout",
     "output_type": "stream",
     "text": [
      "[20419.774s][warning][gc,alloc] Executor task launch worker for task 2.0 in stage 275.0 (TID 1073): Retried waiting for GCLocker too often allocating 4194306 words\n",
      "[20419.783s][warning][gc,alloc] Executor task launch worker for task 2.0 in stage 275.0 (TID 1073): Retried waiting for GCLocker too often allocating 4194306 words\n",
      "[20419.789s][warning][gc,alloc] Executor task launch worker for task 2.0 in stage 275.0 (TID 1073): Retried waiting for GCLocker too often allocating 4194306 words\n",
      "[20419.793s][warning][gc,alloc] Executor task launch worker for task 2.0 in stage 275.0 (TID 1073): Retried waiting for GCLocker too often allocating 4194306 words\n",
      "[20419.797s][warning][gc,alloc] Executor task launch worker for task 2.0 in stage 275.0 (TID 1073): Retried waiting for GCLocker too often allocating 4194306 words\n"
     ]
    },
    {
     "name": "stderr",
     "output_type": "stream",
     "text": [
      "25/08/31 17:36:54 WARN TaskMemoryManager: Failed to allocate a page (33554432 bytes), try again.\n",
      "25/08/31 17:36:54 WARN TaskMemoryManager: Failed to allocate a page (33554432 bytes), try again.\n",
      "25/08/31 17:36:54 WARN TaskMemoryManager: Failed to allocate a page (33554432 bytes), try again.\n",
      "25/08/31 17:36:54 WARN TaskMemoryManager: Failed to allocate a page (33554432 bytes), try again.\n",
      "25/08/31 17:36:54 WARN TaskMemoryManager: Failed to allocate a page (33554432 bytes), try again.\n",
      "                                                                                \r"
     ]
    },
    {
     "name": "stdout",
     "output_type": "stream",
     "text": [
      "Logistic Regression trained. AUC = 0.941 | Accuracy = 0.865\n",
      "trip_distance    coef = +1.7216\n",
      "duration_min     coef = -0.7240\n",
      "tavg             coef = +0.0507\n",
      "PRCP             coef = -0.0025\n",
      "rain_flag        coef = +0.0852\n",
      "pickup_hour      coef = +0.0272\n",
      "Intercept: 3.6335292452867876\n"
     ]
    },
    {
     "name": "stderr",
     "output_type": "stream",
     "text": [
      "[Stage 290:>                                                        (0 + 1) / 1]\r"
     ]
    },
    {
     "name": "stdout",
     "output_type": "stream",
     "text": [
      "+-----+----------+----------------------------------------+-------------+------------------+----+-----------+\n",
      "|label|prediction|probability                             |trip_distance|duration_min      |PRCP|pickup_hour|\n",
      "+-----+----------+----------------------------------------+-------------+------------------+----+-----------+\n",
      "|0    |1.0       |[0.22549770230719637,0.7745022976928037]|0.13         |4.7               |33.8|13         |\n",
      "|0    |1.0       |[0.15836089416992666,0.8416391058300734]|0.14         |3.95              |7.4 |19         |\n",
      "|0    |1.0       |[0.16502791759441834,0.8349720824055816]|0.15         |3.5833333333333335|0.0 |17         |\n",
      "|0    |1.0       |[0.1178169679568408,0.8821830320431592] |0.15         |3.8               |1.5 |12         |\n",
      "|0    |1.0       |[0.08295500760257449,0.9170449923974255]|0.16         |2.783333333333333 |0.0 |13         |\n",
      "|0    |1.0       |[0.16085822294333585,0.8391417770566642]|0.16         |3.6333333333333333|0.0 |11         |\n",
      "|0    |1.0       |[0.30458013401002076,0.6954198659899793]|0.16         |3.783333333333333 |0.0 |11         |\n",
      "|0    |0.0       |[0.5757645423865956,0.4242354576134044] |0.16         |5.85              |0.0 |11         |\n",
      "|0    |1.0       |[0.18149774002978153,0.8185022599702185]|0.17         |3.966666666666667 |0.0 |19         |\n",
      "|0    |1.0       |[0.16630894634141719,0.8336910536585829]|0.17         |3.966666666666667 |4.3 |10         |\n",
      "+-----+----------+----------------------------------------+-------------+------------------+----+-----------+\n",
      "only showing top 10 rows\n"
     ]
    },
    {
     "name": "stderr",
     "output_type": "stream",
     "text": [
      "                                                                                \r"
     ]
    }
   ],
   "source": [
    "## then i can use logistic regression to classify high-efficieny trips\n",
    "\n",
    "from pyspark.sql import functions as F\n",
    "from pyspark.ml.feature import VectorAssembler\n",
    "from pyspark.ml.classification import LogisticRegression\n",
    "from pyspark.ml import Pipeline\n",
    "from pyspark.ml.evaluation import BinaryClassificationEvaluator, MulticlassClassificationEvaluator\n",
    "\n",
    "# output 1 if $/min >= median, otherwise 0\n",
    "median_epm = df_weather.approxQuantile(\"earnings_per_min\", [0.5], 0.01)[0]\n",
    "clf_df = (\n",
    "    df_weather\n",
    "      .withColumn(\"label\", (F.col(\"earnings_per_min\") >= F.lit(median_epm)).cast(\"int\"))\n",
    "      # simple engineered features\n",
    "      .withColumn(\"rain_flag\", (F.col(\"PRCP\") > 0.1).cast(\"int\"))                 \n",
    "      .withColumn(\"tavg\", (F.col(\"TMAX\") + F.col(\"TMIN\"))/2.0)                    \n",
    "      .select(\"label\",\"trip_distance\",\"duration_min\",\"tavg\",\"PRCP\",\"rain_flag\",\"pickup_hour\")\n",
    "      .dropna()\n",
    ")\n",
    "\n",
    "# assemble the features\n",
    "feat_cols = [\"trip_distance\",\"duration_min\",\"tavg\",\"PRCP\",\"rain_flag\",\"pickup_hour\"]\n",
    "assembler = VectorAssembler(inputCols=feat_cols, outputCol=\"features\")\n",
    "\n",
    "# model\n",
    "logr = LogisticRegression(featuresCol=\"features\", labelCol=\"label\", maxIter=50)\n",
    "\n",
    "pipe = Pipeline(stages=[assembler, logr])\n",
    "\n",
    "# conduct a train/testing split\n",
    "train_df, test_df = clf_df.randomSplit([0.8, 0.2], seed=42)\n",
    "clf_model = pipe.fit(train_df)\n",
    "\n",
    "# then evaluate innit\n",
    "pred = clf_model.transform(test_df)\n",
    "\n",
    "auc = BinaryClassificationEvaluator(labelCol=\"label\", rawPredictionCol=\"rawPrediction\", metricName=\"areaUnderROC\").evaluate(pred)\n",
    "acc = MulticlassClassificationEvaluator(labelCol=\"label\", predictionCol=\"prediction\", metricName=\"accuracy\").evaluate(pred)\n",
    "\n",
    "print(f\"Logistic Regression trained. AUC = {auc:.3f} | Accuracy = {acc:.3f}\")\n",
    "\n",
    "# have a look at the coefficients (thats important)\n",
    "lr_stage = clf_model.stages[-1]\n",
    "for name, coef in zip(feat_cols, lr_stage.coefficients):\n",
    "    print(f\"{name:15s}  coef = {coef:+.4f}\")\n",
    "print(\"Intercept:\", lr_stage.intercept)\n",
    "\n",
    "# and sus a few of the predictions\n",
    "pred.select(\"label\",\"prediction\",\"probability\",\"trip_distance\",\"duration_min\",\"PRCP\",\"pickup_hour\").show(10, truncate=False)"
   ]
  },
  {
   "cell_type": "code",
   "execution_count": 91,
   "id": "546a6ddb-c133-494c-8f6a-38c471cfecb3",
   "metadata": {},
   "outputs": [
    {
     "name": "stdout",
     "output_type": "stream",
     "text": [
      "Raw rows: 44658561\n",
      "After cleaning: 44270689\n"
     ]
    },
    {
     "name": "stderr",
     "output_type": "stream",
     "text": [
      "                                                                                \r"
     ]
    },
    {
     "name": "stdout",
     "output_type": "stream",
     "text": [
      "After trimming: 43710378\n"
     ]
    },
    {
     "name": "stderr",
     "output_type": "stream",
     "text": [
      "[Stage 301:===================>                                     (3 + 6) / 9]\r"
     ]
    },
    {
     "name": "stdout",
     "output_type": "stream",
     "text": [
      "After weather join: 43710378\n"
     ]
    },
    {
     "name": "stderr",
     "output_type": "stream",
     "text": [
      "                                                                                \r"
     ]
    }
   ],
   "source": [
    "print(\"Raw rows:\", df.count())\n",
    "print(\"After cleaning:\", df2.count())\n",
    "print(\"After trimming:\", df3.count())\n",
    "print(\"After weather join:\", df_weather.count())"
   ]
  },
  {
   "cell_type": "code",
   "execution_count": 101,
   "id": "07de654c-cbb4-4a4b-96b0-eb736bec6382",
   "metadata": {},
   "outputs": [
    {
     "name": "stdout",
     "output_type": "stream",
     "text": [
      "these figures and tables saved into: /Users/habibhaadi/Documents/GitHub/MAST30034_Python/figures\n"
     ]
    }
   ],
   "source": [
    "# alright wait so for the report im gonna just export figures here\n",
    "\n",
    "import matplotlib.pyplot as plt\n",
    "import pandas as pd\n",
    "import os\n",
    "\n",
    "fig_dir = os.path.expanduser(\"~/Documents/GitHub/MAST30034_Python/figures\")\n",
    "os.makedirs(fig_dir, exist_ok=True)\n",
    "\n",
    "# Figure 1 - the summary stats table\n",
    "summary_trim.toPandas().to_csv(os.path.join(fig_dir, \"fig1_summary_stats.csv\"), index=False)\n",
    "\n",
    "# figure 2: Histogram $/min\n",
    "plt.hist(pdf[\"earnings_per_min\"], bins=60, range=(0,10))\n",
    "plt.xlabel(\"Earnings per minute (USD)\"); plt.ylabel(\"Trips\")\n",
    "plt.title(\"Distribution: $/min\")\n",
    "plt.savefig(os.path.join(fig_dir, \"fig2_hist_epm.png\"), dpi=300, bbox_inches=\"tight\")\n",
    "plt.close()\n",
    "\n",
    "# figure 3: Histogram $/km\n",
    "plt.hist(pdf[\"earnings_per_km\"], bins=60, range=(0,20))\n",
    "plt.xlabel(\"Earnings per km (USD)\"); plt.ylabel(\"Trips\")\n",
    "plt.title(\"Distribution: $/km\")\n",
    "plt.savefig(os.path.join(fig_dir, \"fig3_hist_epkm.png\"), dpi=300, bbox_inches=\"tight\")\n",
    "plt.close()\n",
    "\n",
    "# figure 4: Line plot median $/min by hour\n",
    "bh = by_hour.toPandas()\n",
    "bh.plot(x=\"pickup_hour\", y=\"p50_$per_min\", kind=\"line\", marker=\"o\")\n",
    "plt.title(\"Median $/min by Hour\"); plt.ylabel(\"$ per minute\"); plt.xlabel(\"Hour of day (0–23)\")\n",
    "plt.savefig(os.path.join(fig_dir, \"fig4_by_hour.png\"), dpi=300, bbox_inches=\"tight\")\n",
    "plt.close()\n",
    "\n",
    "# figure 5: Bar chart median $/min by day\n",
    "bd = by_dow.toPandas()\n",
    "bd.plot(x=\"pickup_dow\", y=\"p50_$per_min\", kind=\"bar\")\n",
    "plt.title(\"Median $/min by Day\"); plt.ylabel(\"$ per minute\"); plt.xlabel(\"Day of week\")\n",
    "plt.savefig(os.path.join(fig_dir, \"fig5_by_dow.png\"), dpi=300, bbox_inches=\"tight\")\n",
    "plt.close()\n",
    "\n",
    "# figure 6: Top pickup zones table\n",
    "top_pu.toPandas().to_csv(os.path.join(fig_dir, \"fig6_top_pickup_zones.csv\"), index=False)\n",
    "\n",
    "# figure 7 - Heatmap (hour × borough)\n",
    "pdf_hb = hour_boro.toPandas().pivot(index=\"pickup_hour\", columns=\"PUBorough\", values=\"p50\").sort_index()\n",
    "plt.imshow(pdf_hb, aspect=\"auto\")\n",
    "plt.xticks(range(len(pdf_hb.columns)), pdf_hb.columns, rotation=45)\n",
    "plt.yticks(range(len(pdf_hb.index)), pdf_hb.index)\n",
    "plt.colorbar(label=\"Median $/min\")\n",
    "plt.title(\"Median $/min by Hour × Borough\")\n",
    "plt.xlabel(\"Borough\"); plt.ylabel(\"Hour\")\n",
    "plt.savefig(os.path.join(fig_dir, \"fig7_heatmap_hour_boro.png\"), dpi=300, bbox_inches=\"tight\")\n",
    "plt.close()\n",
    "\n",
    "# figure 8: Distance bin table\n",
    "dist_bins.toPandas().to_csv(os.path.join(fig_dir, \"fig8_distance_bins.csv\"), index=False)\n",
    "\n",
    "# figure 9: Rain vs Dry bar chart\n",
    "pdf_rain = rain_vs_dry.toPandas()\n",
    "labels = [\"rain\" if x else \"dry\" for x in pdf_rain[\"is_rain\"]]\n",
    "plt.bar(labels, pdf_rain[\"p50_$per_min\"])\n",
    "plt.ylabel(\"Median $/min\"); plt.title(\"Rain vs Dry — median $/min\")\n",
    "plt.savefig(os.path.join(fig_dir, \"fig9_rain_vs_dry.png\"), dpi=300, bbox_inches=\"tight\")\n",
    "plt.close()\n",
    "\n",
    "# figure 10: Temperature bin bar chart\n",
    "pdf_tmp = temp_bins.toPandas()\n",
    "plt.bar(pdf_tmp[\"temp_bin\"], pdf_tmp[\"p50_$per_min\"])\n",
    "plt.xlabel(\"Daily avg temp (°C, binned)\"); plt.ylabel(\"Median $/min\")\n",
    "plt.title(\"Median $/min by temperature bin\")\n",
    "plt.savefig(os.path.join(fig_dir, \"fig10_temp_bins.png\"), dpi=300, bbox_inches=\"tight\")\n",
    "plt.close()\n",
    "\n",
    "# figure 11: Rain bin table\n",
    "rb.toPandas().to_csv(os.path.join(fig_dir, \"fig11_rain_bins.csv\"), index=False)\n",
    "\n",
    "# omg\n",
    "\n",
    "print(\"these figures and tables saved into:\", fig_dir)"
   ]
  },
  {
   "cell_type": "code",
   "execution_count": 105,
   "id": "356b9671-f727-46e1-889e-72ec5024f495",
   "metadata": {},
   "outputs": [
    {
     "name": "stdout",
     "output_type": "stream",
     "text": [
      "Reading: /Users/habibhaadi/Documents/GitHub/MAST30034_Python/figures/fig6_top_pickup_zones.csv\n",
      "Saved: /Users/habibhaadi/Documents/GitHub/MAST30034_Python/plots/fig6_top10_pickup_zones.csv\n"
     ]
    },
    {
     "data": {
      "text/html": [
       "<div>\n",
       "<style scoped>\n",
       "    .dataframe tbody tr th:only-of-type {\n",
       "        vertical-align: middle;\n",
       "    }\n",
       "\n",
       "    .dataframe tbody tr th {\n",
       "        vertical-align: top;\n",
       "    }\n",
       "\n",
       "    .dataframe thead th {\n",
       "        text-align: right;\n",
       "    }\n",
       "</style>\n",
       "<table border=\"1\" class=\"dataframe\">\n",
       "  <thead>\n",
       "    <tr style=\"text-align: right;\">\n",
       "      <th></th>\n",
       "      <th>PUBorough</th>\n",
       "      <th>PUZone</th>\n",
       "      <th>trips</th>\n",
       "      <th>p50_$per_min</th>\n",
       "    </tr>\n",
       "  </thead>\n",
       "  <tbody>\n",
       "    <tr>\n",
       "      <th>20</th>\n",
       "      <td>Manhattan</td>\n",
       "      <td>Upper East Side South</td>\n",
       "      <td>1881081</td>\n",
       "      <td>1.41</td>\n",
       "    </tr>\n",
       "    <tr>\n",
       "      <th>73</th>\n",
       "      <td>Manhattan</td>\n",
       "      <td>Midtown Center</td>\n",
       "      <td>1792252</td>\n",
       "      <td>1.26</td>\n",
       "    </tr>\n",
       "    <tr>\n",
       "      <th>17</th>\n",
       "      <td>Manhattan</td>\n",
       "      <td>Upper East Side North</td>\n",
       "      <td>1732869</td>\n",
       "      <td>1.44</td>\n",
       "    </tr>\n",
       "    <tr>\n",
       "      <th>49</th>\n",
       "      <td>Manhattan</td>\n",
       "      <td>Midtown East</td>\n",
       "      <td>1582225</td>\n",
       "      <td>1.32</td>\n",
       "    </tr>\n",
       "    <tr>\n",
       "      <th>111</th>\n",
       "      <td>Manhattan</td>\n",
       "      <td>Penn Station/Madison Sq West</td>\n",
       "      <td>1520671</td>\n",
       "      <td>1.19</td>\n",
       "    </tr>\n",
       "    <tr>\n",
       "      <th>63</th>\n",
       "      <td>Manhattan</td>\n",
       "      <td>Times Sq/Theatre District</td>\n",
       "      <td>1485494</td>\n",
       "      <td>1.29</td>\n",
       "    </tr>\n",
       "    <tr>\n",
       "      <th>27</th>\n",
       "      <td>Manhattan</td>\n",
       "      <td>Clinton East</td>\n",
       "      <td>1390158</td>\n",
       "      <td>1.39</td>\n",
       "    </tr>\n",
       "    <tr>\n",
       "      <th>48</th>\n",
       "      <td>Manhattan</td>\n",
       "      <td>Murray Hill</td>\n",
       "      <td>1350765</td>\n",
       "      <td>1.33</td>\n",
       "    </tr>\n",
       "    <tr>\n",
       "      <th>56</th>\n",
       "      <td>Manhattan</td>\n",
       "      <td>Union Sq</td>\n",
       "      <td>1340739</td>\n",
       "      <td>1.30</td>\n",
       "    </tr>\n",
       "    <tr>\n",
       "      <th>29</th>\n",
       "      <td>Manhattan</td>\n",
       "      <td>Lincoln Square East</td>\n",
       "      <td>1323067</td>\n",
       "      <td>1.38</td>\n",
       "    </tr>\n",
       "  </tbody>\n",
       "</table>\n",
       "</div>"
      ],
      "text/plain": [
       "     PUBorough                        PUZone    trips  p50_$per_min\n",
       "20   Manhattan         Upper East Side South  1881081          1.41\n",
       "73   Manhattan                Midtown Center  1792252          1.26\n",
       "17   Manhattan         Upper East Side North  1732869          1.44\n",
       "49   Manhattan                  Midtown East  1582225          1.32\n",
       "111  Manhattan  Penn Station/Madison Sq West  1520671          1.19\n",
       "63   Manhattan     Times Sq/Theatre District  1485494          1.29\n",
       "27   Manhattan                  Clinton East  1390158          1.39\n",
       "48   Manhattan                   Murray Hill  1350765          1.33\n",
       "56   Manhattan                      Union Sq  1340739          1.30\n",
       "29   Manhattan           Lincoln Square East  1323067          1.38"
      ]
     },
     "execution_count": 105,
     "metadata": {},
     "output_type": "execute_result"
    }
   ],
   "source": [
    "import os, glob\n",
    "import pandas as pd\n",
    "\n",
    "# 1) Where your figures/CSVs were exported\n",
    "repo_root  = os.path.expanduser(\"~/Documents/GitHub/MAST30034_Python\")\n",
    "plots_dir  = os.path.join(repo_root, \"plots\")\n",
    "\n",
    "# Try the obvious paths first, then fall back to a recursive search\n",
    "candidates = [\n",
    "    os.path.join(\"fig6_top_pickup_zones.csv\"),\n",
    "    os.path.join(plots_dir, \"fig6_top_pickup_zones.csv\"),\n",
    "]\n",
    "csv_path = None\n",
    "for p in candidates:\n",
    "    if os.path.exists(p):\n",
    "        csv_path = p\n",
    "        break\n",
    "if csv_path is None:\n",
    "    hits = glob.glob(os.path.join(repo_root, \"**\", \"fig6_top_pickup_zones.csv\"), recursive=True)\n",
    "    if not hits:\n",
    "        raise FileNotFoundError(\"Couldn't find fig6_top_pickup_zones.csv. Check where you saved your exports.\")\n",
    "    csv_path = hits[0]\n",
    "\n",
    "print(\"Reading:\", csv_path)\n",
    "df_zones = pd.read_csv(csv_path)\n",
    "\n",
    "# 2) Keep only the columns we need; sort by trips desc; top 10\n",
    "keep_cols = [\"PUBorough\", \"PUZone\", \"trips\", \"p50_$per_min\"]\n",
    "missing = [c for c in keep_cols if c not in df_zones.columns]\n",
    "if missing:\n",
    "    raise ValueError(f\"Expected columns missing: {missing}\\nGot columns: {list(df_zones.columns)}\")\n",
    "\n",
    "df_top10 = (\n",
    "    df_zones[keep_cols]\n",
    "    .sort_values(\"trips\", ascending=False)\n",
    "    .head(10)\n",
    "    .copy()\n",
    ")\n",
    "\n",
    "# Neaten numbers\n",
    "df_top10[\"trips\"] = df_top10[\"trips\"].astype(int)\n",
    "df_top10[\"p50_$per_min\"] = df_top10[\"p50_$per_min\"].round(2)\n",
    "\n",
    "# 3) Save next to the other figures\n",
    "out_csv = os.path.join(plots_dir, \"fig6_top10_pickup_zones.csv\")\n",
    "os.makedirs(plots_dir, exist_ok=True)\n",
    "df_top10.to_csv(out_csv, index=False)\n",
    "print(\"Saved:\", out_csv)\n",
    "df_top10"
   ]
  },
  {
   "cell_type": "code",
   "execution_count": 111,
   "id": "77edab94-de66-447f-8b83-5de39bea4f56",
   "metadata": {},
   "outputs": [
    {
     "name": "stdout",
     "output_type": "stream",
     "text": [
      "Saved Top 10 zones by median $/min → /Users/habibhaadi/Documents/GitHub/MAST30034_Python/figures/fig6_top10_median_pickup_zones.csv\n",
      "   PUBorough                        PUZone    trips  p50_$per_min\n",
      "0     Queens  Flushing Meadows-Corona Park     7280      2.420361\n",
      "1  Manhattan               Randalls Island     3095      1.937834\n",
      "2     Queens                       Maspeth     3189      1.881146\n",
      "3  Manhattan                Yorkville West   816867      1.557983\n",
      "4     Queens                 South Jamaica     6830      1.541751\n",
      "5     Queens       Briarwood/Jamaica Hills     5800      1.535714\n",
      "6     Queens                        Corona     3632      1.526316\n",
      "7     Queens                  Baisley Park    16157      1.502324\n",
      "8     Queens                 East Elmhurst    14312      1.489540\n",
      "9     Queens                   JFK Airport  1248879      1.482978\n"
     ]
    }
   ],
   "source": [
    "import pandas as pd\n",
    "import os\n",
    "\n",
    "# Path to your figures folder\n",
    "fig_dir = os.path.expanduser(\"~/Documents/GitHub/MAST30034_Python/figures\")\n",
    "\n",
    "# Load the full pickup zones table\n",
    "df_zones = pd.read_csv(os.path.join(fig_dir, \"fig6_top_pickup_zones.csv\"))\n",
    "\n",
    "# Sort by median $/min and keep top 10\n",
    "df_top10_medians = df_zones.sort_values(\"p50_$per_min\", ascending=False).head(10)\n",
    "\n",
    "# Save as a new CSV in the same figures folder\n",
    "out_path = os.path.join(fig_dir, \"fig6_top10_median_pickup_zones.csv\")\n",
    "df_top10_medians.to_csv(out_path, index=False)\n",
    "\n",
    "print(f\"Saved Top 10 zones by median $/min → {out_path}\")\n",
    "print(df_top10_medians)"
   ]
  },
  {
   "cell_type": "code",
   "execution_count": null,
   "id": "38ebf067-fa4b-4b32-bf06-a60422a7d914",
   "metadata": {},
   "outputs": [],
   "source": []
  }
 ],
 "metadata": {
  "kernelspec": {
   "display_name": "Python [conda env:base] *",
   "language": "python",
   "name": "conda-base-py"
  },
  "language_info": {
   "codemirror_mode": {
    "name": "ipython",
    "version": 3
   },
   "file_extension": ".py",
   "mimetype": "text/x-python",
   "name": "python",
   "nbconvert_exporter": "python",
   "pygments_lexer": "ipython3",
   "version": "3.12.7"
  }
 },
 "nbformat": 4,
 "nbformat_minor": 5
}
